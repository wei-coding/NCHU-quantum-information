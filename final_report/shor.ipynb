{
 "cells": [
  {
   "cell_type": "code",
   "execution_count": 1,
   "metadata": {},
   "outputs": [],
   "source": [
    "import math\n",
    "import numpy as np\n",
    "from qiskit import Aer\n",
    "from qiskit.utils import QuantumInstance\n",
    "from qiskit.algorithms import Shor"
   ]
  },
  {
   "cell_type": "code",
   "execution_count": 2,
   "metadata": {},
   "outputs": [
    {
     "name": "stdout",
     "output_type": "stream",
     "text": [
      "The list of factors of 15 as computed by the Shor's algorithm is [3, 5].\n"
     ]
    }
   ],
   "source": [
    "N = 15\n",
    "backend = Aer.get_backend('aer_simulator')\n",
    "quantum_instance = QuantumInstance(backend, shots=1024)\n",
    "shor = Shor(quantum_instance=quantum_instance)\n",
    "result = shor.factor(N)\n",
    "print(f\"The list of factors of {N} as computed by the Shor's algorithm is {result.factors[0]}.\")"
   ]
  },
  {
   "cell_type": "code",
   "execution_count": 3,
   "metadata": {},
   "outputs": [
    {
     "name": "stdout",
     "output_type": "stream",
     "text": [
      "Computed of qubits for circuit: 18\n",
      "Actual number of qubits of circuit: 18\n"
     ]
    }
   ],
   "source": [
    "print(f'Computed of qubits for circuit: {4 * math.ceil(math.log(N, 2)) + 2}')\n",
    "print(f'Actual number of qubits of circuit: {shor.construct_circuit(N).num_qubits}')"
   ]
  },
  {
   "cell_type": "markdown",
   "metadata": {},
   "source": [
    "Total will used: $4n+2$ qubits\n",
    "\n",
    "n = bits used by N, $15_{10}=1110_{2}$"
   ]
  }
 ],
 "metadata": {
  "interpreter": {
   "hash": "e85b83d371ab74614251cd61868cefbef17bd6ad011536701f6f2bf5115929ed"
  },
  "kernelspec": {
   "display_name": "Python 3.8.8 64-bit",
   "language": "python",
   "name": "python3"
  },
  "language_info": {
   "codemirror_mode": {
    "name": "ipython",
    "version": 3
   },
   "file_extension": ".py",
   "mimetype": "text/x-python",
   "name": "python",
   "nbconvert_exporter": "python",
   "pygments_lexer": "ipython3",
   "version": "3.9.6"
  },
  "orig_nbformat": 4
 },
 "nbformat": 4,
 "nbformat_minor": 2
}
